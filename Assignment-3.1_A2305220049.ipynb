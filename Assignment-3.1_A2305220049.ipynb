{
 "cells": [
  {
   "cell_type": "code",
   "execution_count": 480,
   "metadata": {},
   "outputs": [],
   "source": [
    "import pandas as pd\n",
    "import numpy as np\n",
    "import matplotlib.pyplot as plt"
   ]
  },
  {
   "cell_type": "code",
   "execution_count": 481,
   "metadata": {},
   "outputs": [],
   "source": [
    "data=pd.read_csv(r\"C:\\programming languages\\ML with python\\NHAIAccidentData-1_-1204467829.csv\")"
   ]
  },
  {
   "cell_type": "code",
   "execution_count": 482,
   "metadata": {},
   "outputs": [
    {
     "data": {
      "text/html": [
       "<div>\n",
       "<style scoped>\n",
       "    .dataframe tbody tr th:only-of-type {\n",
       "        vertical-align: middle;\n",
       "    }\n",
       "\n",
       "    .dataframe tbody tr th {\n",
       "        vertical-align: top;\n",
       "    }\n",
       "\n",
       "    .dataframe thead th {\n",
       "        text-align: right;\n",
       "    }\n",
       "</style>\n",
       "<table border=\"1\" class=\"dataframe\">\n",
       "  <thead>\n",
       "    <tr style=\"text-align: right;\">\n",
       "      <th></th>\n",
       "      <th>Date</th>\n",
       "      <th>TimeOfAcc</th>\n",
       "      <th>AccLocation</th>\n",
       "      <th>NatureAccident</th>\n",
       "      <th>ClassificationOfAccident</th>\n",
       "      <th>Causes</th>\n",
       "      <th>RoadFeature</th>\n",
       "      <th>RoadCondition</th>\n",
       "      <th>IntersectionTypeControl</th>\n",
       "      <th>WeatherCondition</th>\n",
       "      <th>VehicleResponsible</th>\n",
       "      <th>Fatal</th>\n",
       "      <th>Grevious</th>\n",
       "      <th>Minor</th>\n",
       "      <th>Injured</th>\n",
       "      <th>NumAnimalsKilled</th>\n",
       "      <th>HelpProvidedByAmbulancePatrol</th>\n",
       "      <th>Remarks</th>\n",
       "    </tr>\n",
       "  </thead>\n",
       "  <tbody>\n",
       "    <tr>\n",
       "      <th>0</th>\n",
       "      <td>9/6/2015</td>\n",
       "      <td>9:00 AM</td>\n",
       "      <td>Ch. 69+5006</td>\n",
       "      <td>2</td>\n",
       "      <td>2</td>\n",
       "      <td>2</td>\n",
       "      <td>2</td>\n",
       "      <td>1</td>\n",
       "      <td>9</td>\n",
       "      <td>1</td>\n",
       "      <td>One Diesel Truck collapsed</td>\n",
       "      <td>0</td>\n",
       "      <td>2</td>\n",
       "      <td>1</td>\n",
       "      <td>0</td>\n",
       "      <td>0</td>\n",
       "      <td>Petrol Vehicle</td>\n",
       "      <td>NaN</td>\n",
       "    </tr>\n",
       "    <tr>\n",
       "      <th>1</th>\n",
       "      <td>9/5/2014</td>\n",
       "      <td>7:18 AM</td>\n",
       "      <td>72+500</td>\n",
       "      <td>7</td>\n",
       "      <td>1</td>\n",
       "      <td>2</td>\n",
       "      <td>2</td>\n",
       "      <td>3</td>\n",
       "      <td>9</td>\n",
       "      <td>1</td>\n",
       "      <td>Lorry &amp; Scorpio</td>\n",
       "      <td>2</td>\n",
       "      <td>0</td>\n",
       "      <td>0</td>\n",
       "      <td>0</td>\n",
       "      <td>0</td>\n",
       "      <td>Ambulance</td>\n",
       "      <td>NaN</td>\n",
       "    </tr>\n",
       "    <tr>\n",
       "      <th>2</th>\n",
       "      <td>9/10/2014</td>\n",
       "      <td>8:50 AM</td>\n",
       "      <td>20+250 LHS</td>\n",
       "      <td>4</td>\n",
       "      <td>-</td>\n",
       "      <td>3</td>\n",
       "      <td>3</td>\n",
       "      <td>1</td>\n",
       "      <td>9</td>\n",
       "      <td>1</td>\n",
       "      <td>LCV (KA02 AD 4041) HIT CAR (KA 19 Z 8477)</td>\n",
       "      <td>0</td>\n",
       "      <td>0</td>\n",
       "      <td>0</td>\n",
       "      <td>0</td>\n",
       "      <td>0</td>\n",
       "      <td>Petrol Vehicle</td>\n",
       "      <td>NO PROPERTY DAMAGES. INFORMED KEY PERSONS.</td>\n",
       "    </tr>\n",
       "    <tr>\n",
       "      <th>3</th>\n",
       "      <td>8/9/2015</td>\n",
       "      <td>5:00 AM</td>\n",
       "      <td>NaN</td>\n",
       "      <td>1</td>\n",
       "      <td>2</td>\n",
       "      <td>2</td>\n",
       "      <td>1</td>\n",
       "      <td>3</td>\n",
       "      <td>9</td>\n",
       "      <td>1</td>\n",
       "      <td>Lorry Truck</td>\n",
       "      <td>0</td>\n",
       "      <td>1</td>\n",
       "      <td>1</td>\n",
       "      <td>0</td>\n",
       "      <td>0</td>\n",
       "      <td>Petrol Vehicle</td>\n",
       "      <td>NaN</td>\n",
       "    </tr>\n",
       "    <tr>\n",
       "      <th>4</th>\n",
       "      <td>8/4/2015</td>\n",
       "      <td>8:23 AM</td>\n",
       "      <td>126.800 KM RHS</td>\n",
       "      <td>2</td>\n",
       "      <td>2</td>\n",
       "      <td>2</td>\n",
       "      <td>4</td>\n",
       "      <td>4</td>\n",
       "      <td>9</td>\n",
       "      <td>1</td>\n",
       "      <td>Car</td>\n",
       "      <td>0</td>\n",
       "      <td>2</td>\n",
       "      <td>1</td>\n",
       "      <td>1</td>\n",
       "      <td>0</td>\n",
       "      <td>Petrol Vehicle</td>\n",
       "      <td>A car upside due to over speed</td>\n",
       "    </tr>\n",
       "  </tbody>\n",
       "</table>\n",
       "</div>"
      ],
      "text/plain": [
       "        Date TimeOfAcc     AccLocation  NatureAccident  \\\n",
       "0   9/6/2015   9:00 AM     Ch. 69+5006               2   \n",
       "1   9/5/2014   7:18 AM          72+500               7   \n",
       "2  9/10/2014   8:50 AM      20+250 LHS               4   \n",
       "3   8/9/2015   5:00 AM             NaN               1   \n",
       "4   8/4/2015   8:23 AM  126.800 KM RHS               2   \n",
       "\n",
       "  ClassificationOfAccident Causes  RoadFeature  RoadCondition  \\\n",
       "0                        2      2            2              1   \n",
       "1                        1      2            2              3   \n",
       "2                        -      3            3              1   \n",
       "3                        2      2            1              3   \n",
       "4                        2      2            4              4   \n",
       "\n",
       "   IntersectionTypeControl  WeatherCondition  \\\n",
       "0                        9                 1   \n",
       "1                        9                 1   \n",
       "2                        9                 1   \n",
       "3                        9                 1   \n",
       "4                        9                 1   \n",
       "\n",
       "                          VehicleResponsible  Fatal  Grevious  Minor  Injured  \\\n",
       "0                 One Diesel Truck collapsed      0         2      1        0   \n",
       "1                            Lorry & Scorpio      2         0      0        0   \n",
       "2  LCV (KA02 AD 4041) HIT CAR (KA 19 Z 8477)      0         0      0        0   \n",
       "3                                Lorry Truck      0         1      1        0   \n",
       "4                                        Car      0         2      1        1   \n",
       "\n",
       "   NumAnimalsKilled HelpProvidedByAmbulancePatrol  \\\n",
       "0                 0                Petrol Vehicle   \n",
       "1                 0                     Ambulance   \n",
       "2                 0                Petrol Vehicle   \n",
       "3                 0                Petrol Vehicle   \n",
       "4                 0                Petrol Vehicle   \n",
       "\n",
       "                                      Remarks  \n",
       "0                                         NaN  \n",
       "1                                         NaN  \n",
       "2  NO PROPERTY DAMAGES. INFORMED KEY PERSONS.  \n",
       "3                                         NaN  \n",
       "4              A car upside due to over speed  "
      ]
     },
     "execution_count": 482,
     "metadata": {},
     "output_type": "execute_result"
    }
   ],
   "source": [
    "data.head()"
   ]
  },
  {
   "cell_type": "code",
   "execution_count": 483,
   "metadata": {},
   "outputs": [
    {
     "name": "stdout",
     "output_type": "stream",
     "text": [
      "<class 'pandas.core.frame.DataFrame'>\n",
      "RangeIndex: 91 entries, 0 to 90\n",
      "Data columns (total 18 columns):\n",
      " #   Column                         Non-Null Count  Dtype \n",
      "---  ------                         --------------  ----- \n",
      " 0   Date                           91 non-null     object\n",
      " 1   TimeOfAcc                      91 non-null     object\n",
      " 2   AccLocation                    89 non-null     object\n",
      " 3   NatureAccident                 91 non-null     int64 \n",
      " 4   ClassificationOfAccident       91 non-null     object\n",
      " 5   Causes                         91 non-null     object\n",
      " 6   RoadFeature                    91 non-null     int64 \n",
      " 7   RoadCondition                  91 non-null     int64 \n",
      " 8   IntersectionTypeControl        91 non-null     int64 \n",
      " 9   WeatherCondition               91 non-null     int64 \n",
      " 10  VehicleResponsible             91 non-null     object\n",
      " 11  Fatal                          91 non-null     int64 \n",
      " 12  Grevious                       91 non-null     int64 \n",
      " 13  Minor                          91 non-null     int64 \n",
      " 14  Injured                        91 non-null     int64 \n",
      " 15  NumAnimalsKilled               91 non-null     int64 \n",
      " 16  HelpProvidedByAmbulancePatrol  91 non-null     object\n",
      " 17  Remarks                        63 non-null     object\n",
      "dtypes: int64(10), object(8)\n",
      "memory usage: 12.9+ KB\n"
     ]
    }
   ],
   "source": [
    "data.info()"
   ]
  },
  {
   "cell_type": "code",
   "execution_count": 484,
   "metadata": {},
   "outputs": [
    {
     "name": "stderr",
     "output_type": "stream",
     "text": [
      "C:\\Users\\shivansh uppal\\AppData\\Local\\Temp\\ipykernel_20220\\154413176.py:3: FutureWarning: The default value of regex will change from True to False in a future version. In addition, single character regular expressions will *not* be treated as literal strings when regex=True.\n",
      "  data['AccLocation']=data['AccLocation'].str.replace('+','.')\n"
     ]
    }
   ],
   "source": [
    "#change AccLoc like '722+1' to '722.1'\n",
    "\n",
    "data['AccLocation']=data['AccLocation'].str.replace('+','.')"
   ]
  },
  {
   "cell_type": "code",
   "execution_count": 485,
   "metadata": {},
   "outputs": [
    {
     "data": {
      "text/plain": [
       "<AxesSubplot:xlabel='AccLocation'>"
      ]
     },
     "execution_count": 485,
     "metadata": {},
     "output_type": "execute_result"
    },
    {
     "data": {
      "image/png": "[encoded data removed]",
      "text/plain": [
       "<Figure size 1440x720 with 1 Axes>"
      ]
     },
     "metadata": {
      "needs_background": "light"
     },
     "output_type": "display_data"
    }
   ],
   "source": [
    "#analyse the AccLocation graphicallly groupby AccLocation and count the number of accidents\n",
    "\n",
    "data.groupby('AccLocation')['AccLocation'].count().plot(kind='bar',figsize=(20,10))"
   ]
  },
  {
   "cell_type": "code",
   "execution_count": 486,
   "metadata": {},
   "outputs": [
    {
     "data": {
      "text/plain": [
       "AccLocation\n",
       "109.000 KM RHS    3\n",
       "126.800 KM RHS    3\n",
       "138.250 KM RHS    2\n",
       "126.800 KM LHS    2\n",
       "18.800 LHS        2\n",
       "147.700 KM RHS    2\n",
       "86.000            2\n",
       "18.700 LHS        2\n",
       "115.600 KM RHS    2\n",
       "Ch.86.000         2\n",
       "Name: AccLocation, dtype: int64"
      ]
     },
     "execution_count": 486,
     "metadata": {},
     "output_type": "execute_result"
    }
   ],
   "source": [
    "#analyse the AccLocation groupby AccLocation and count the number of accidents\n",
    "\n",
    "data.groupby('AccLocation')['AccLocation'].count().sort_values(ascending=False).head(10)"
   ]
  },
  {
   "cell_type": "code",
   "execution_count": 487,
   "metadata": {},
   "outputs": [],
   "source": [
    "data.loc [data['VehicleResponsible'].str.contains('lorry',case=False), 'Encoded_VehicleResponsible']='0'\n",
    "data.loc [data['VehicleResponsible'].str.contains('truck',case=False), 'Encoded_VehicleResponsible']='0'\n",
    "data.loc [data['VehicleResponsible'].str.contains('car',case=False), 'Encoded_VehicleResponsible']='1'\n",
    "data.loc [data['VehicleResponsible'].str.contains('bus',case=False), 'Encoded_VehicleResponsible']='0'\n",
    "data.loc [data['VehicleResponsible'].str.contains('motor cycle',case=False), 'Encoded_VehicleResponsible']='2'\n",
    "data.loc [data['VehicleResponsible'].str.contains('two wheeler',case=False), 'Encoded_VehicleResponsible']='2'\n",
    "data.loc [data['VehicleResponsible'].str.contains('bike',case=False), 'Encoded_VehicleResponsible']='2'\n",
    "data.loc [data['VehicleResponsible'].str.contains('unknown',case=False), 'Encoded_VehicleResponsible']='3'\n",
    "data.loc [data['VehicleResponsible'].str.contains('lcv',case=False), 'Encoded_VehicleResponsible']='1'\n",
    "data.loc [data['VehicleResponsible'].str.contains('tipper',case=False), 'Encoded_VehicleResponsible']='1'\n",
    "data.loc [data['VehicleResponsible'].str.contains('matador',case=False), 'Encoded_VehicleResponsible']='1'\n",
    "data.loc [data['VehicleResponsible'] =='', 'Encoded_VehicleResponsible']='4'\n",
    "\n",
    "encodedVehiclesResponsible=pd.get_dummies(data['Encoded_VehicleResponsible'],prefix='VehicleResponsible',drop_first=True)\n",
    "data['VehicleResponsible_1']=encodedVehiclesResponsible['VehicleResponsible_1']\n",
    "data['VehicleResponsible_2']=encodedVehiclesResponsible['VehicleResponsible_2']\n",
    "data['VehicleResponsible_3']=encodedVehiclesResponsible['VehicleResponsible_3']\n",
    "\n",
    "data=data.drop(['VehicleResponsible'],axis=1)\n",
    "data=data.drop(['Encoded_VehicleResponsible'],axis=1)"
   ]
  },
  {
   "cell_type": "code",
   "execution_count": 488,
   "metadata": {},
   "outputs": [],
   "source": [
    "encoded_HelpProvidedBy = pd.get_dummies(data['HelpProvidedByAmbulancePatrol'],prefix='HelpProvidedBy',drop_first=True)\n",
    "\n",
    "data['HelpProvidedBy_Ambulance/Petrol Vehicle']=encoded_HelpProvidedBy['HelpProvidedBy_Ambulance/Petrol Vehicle']\n",
    "data['HelpProvidedBy_Petrol Vehicle']=encoded_HelpProvidedBy['HelpProvidedBy_Petrol Vehicle']\n",
    "\n",
    "data=data.drop(['HelpProvidedByAmbulancePatrol'],axis=1)"
   ]
  },
  {
   "cell_type": "code",
   "execution_count": 489,
   "metadata": {},
   "outputs": [
    {
     "name": "stderr",
     "output_type": "stream",
     "text": [
      "c:\\Users\\shivansh uppal\\AppData\\Local\\Programs\\Python\\Python310\\lib\\site-packages\\pandas\\core\\tools\\datetimes.py:1047: UserWarning: Parsing '30/11/2014' in DD/MM/YYYY format. Provide format or specify infer_datetime_format=True for consistent parsing.\n",
      "  cache_array = _maybe_cache(arg, format, cache, convert_listlike)\n",
      "c:\\Users\\shivansh uppal\\AppData\\Local\\Programs\\Python\\Python310\\lib\\site-packages\\pandas\\core\\tools\\datetimes.py:1047: UserWarning: Parsing '21/12/2014' in DD/MM/YYYY format. Provide format or specify infer_datetime_format=True for consistent parsing.\n",
      "  cache_array = _maybe_cache(arg, format, cache, convert_listlike)\n",
      "c:\\Users\\shivansh uppal\\AppData\\Local\\Programs\\Python\\Python310\\lib\\site-packages\\pandas\\core\\tools\\datetimes.py:1047: UserWarning: Parsing '20/10/2015' in DD/MM/YYYY format. Provide format or specify infer_datetime_format=True for consistent parsing.\n",
      "  cache_array = _maybe_cache(arg, format, cache, convert_listlike)\n",
      "c:\\Users\\shivansh uppal\\AppData\\Local\\Programs\\Python\\Python310\\lib\\site-packages\\pandas\\core\\tools\\datetimes.py:1047: UserWarning: Parsing '19/10/2014' in DD/MM/YYYY format. Provide format or specify infer_datetime_format=True for consistent parsing.\n",
      "  cache_array = _maybe_cache(arg, format, cache, convert_listlike)\n",
      "c:\\Users\\shivansh uppal\\AppData\\Local\\Programs\\Python\\Python310\\lib\\site-packages\\pandas\\core\\tools\\datetimes.py:1047: UserWarning: Parsing '18/10/2014' in DD/MM/YYYY format. Provide format or specify infer_datetime_format=True for consistent parsing.\n",
      "  cache_array = _maybe_cache(arg, format, cache, convert_listlike)\n",
      "c:\\Users\\shivansh uppal\\AppData\\Local\\Programs\\Python\\Python310\\lib\\site-packages\\pandas\\core\\tools\\datetimes.py:1047: UserWarning: Parsing '16/10/2014' in DD/MM/YYYY format. Provide format or specify infer_datetime_format=True for consistent parsing.\n",
      "  cache_array = _maybe_cache(arg, format, cache, convert_listlike)\n",
      "c:\\Users\\shivansh uppal\\AppData\\Local\\Programs\\Python\\Python310\\lib\\site-packages\\pandas\\core\\tools\\datetimes.py:1047: UserWarning: Parsing '15/10/2015' in DD/MM/YYYY format. Provide format or specify infer_datetime_format=True for consistent parsing.\n",
      "  cache_array = _maybe_cache(arg, format, cache, convert_listlike)\n",
      "c:\\Users\\shivansh uppal\\AppData\\Local\\Programs\\Python\\Python310\\lib\\site-packages\\pandas\\core\\tools\\datetimes.py:1047: UserWarning: Parsing '15/10/2014' in DD/MM/YYYY format. Provide format or specify infer_datetime_format=True for consistent parsing.\n",
      "  cache_array = _maybe_cache(arg, format, cache, convert_listlike)\n",
      "c:\\Users\\shivansh uppal\\AppData\\Local\\Programs\\Python\\Python310\\lib\\site-packages\\pandas\\core\\tools\\datetimes.py:1047: UserWarning: Parsing '13/10/2014' in DD/MM/YYYY format. Provide format or specify infer_datetime_format=True for consistent parsing.\n",
      "  cache_array = _maybe_cache(arg, format, cache, convert_listlike)\n"
     ]
    }
   ],
   "source": [
    "accidentDate=pd.to_datetime(data['Date'])\n",
    "data['AccYear']=accidentDate.dt.year\n",
    "data['AccMonth']=accidentDate.dt.month\n",
    "data['AccDay']=accidentDate.dt.day\n",
    "\n",
    "data=data.drop(['Date'],axis=1)"
   ]
  },
  {
   "cell_type": "code",
   "execution_count": 490,
   "metadata": {},
   "outputs": [],
   "source": [
    "newAccidentTimeCols = data[\"TimeOfAcc\"].str.split(\" \", n = 1, expand = True)\n",
    "data['TimeOfAccNumeric']=newAccidentTimeCols[0]\n",
    "data['TimeOfAccAMPM']=newAccidentTimeCols[1]\n",
    "data=data.drop(['TimeOfAcc'],axis=1)\n",
    "\n",
    "accidentHourMinute = data['TimeOfAccNumeric'].str.split(\":\", n=1, expand=True)\n",
    "data['HourOfAccident'] = accidentHourMinute[0]\n",
    "\n",
    "data=data.drop(['TimeOfAccNumeric'],axis=1)\n",
    "\n",
    "time= pd.get_dummies(data['TimeOfAccAMPM'],drop_first=True)\n",
    "data=pd.concat([data,time],axis=1)\n",
    "\n",
    "data=data.drop(['TimeOfAccAMPM'],axis=1)"
   ]
  },
  {
   "cell_type": "code",
   "execution_count": 491,
   "metadata": {},
   "outputs": [],
   "source": [
    "data =data.drop (data[data.ClassificationOfAccident=='-'].index)"
   ]
  },
  {
   "cell_type": "code",
   "execution_count": 492,
   "metadata": {},
   "outputs": [
    {
     "data": {
      "text/html": [
       "<div>\n",
       "<style scoped>\n",
       "    .dataframe tbody tr th:only-of-type {\n",
       "        vertical-align: middle;\n",
       "    }\n",
       "\n",
       "    .dataframe tbody tr th {\n",
       "        vertical-align: top;\n",
       "    }\n",
       "\n",
       "    .dataframe thead th {\n",
       "        text-align: right;\n",
       "    }\n",
       "</style>\n",
       "<table border=\"1\" class=\"dataframe\">\n",
       "  <thead>\n",
       "    <tr style=\"text-align: right;\">\n",
       "      <th></th>\n",
       "      <th>AccLocation</th>\n",
       "      <th>NatureAccident</th>\n",
       "      <th>ClassificationOfAccident</th>\n",
       "      <th>Causes</th>\n",
       "      <th>RoadFeature</th>\n",
       "      <th>RoadCondition</th>\n",
       "      <th>IntersectionTypeControl</th>\n",
       "      <th>WeatherCondition</th>\n",
       "      <th>Fatal</th>\n",
       "      <th>Grevious</th>\n",
       "      <th>...</th>\n",
       "      <th>VehicleResponsible_1</th>\n",
       "      <th>VehicleResponsible_2</th>\n",
       "      <th>VehicleResponsible_3</th>\n",
       "      <th>HelpProvidedBy_Ambulance/Petrol Vehicle</th>\n",
       "      <th>HelpProvidedBy_Petrol Vehicle</th>\n",
       "      <th>AccYear</th>\n",
       "      <th>AccMonth</th>\n",
       "      <th>AccDay</th>\n",
       "      <th>HourOfAccident</th>\n",
       "      <th>PM</th>\n",
       "    </tr>\n",
       "  </thead>\n",
       "  <tbody>\n",
       "    <tr>\n",
       "      <th>0</th>\n",
       "      <td>Ch. 69.5006</td>\n",
       "      <td>2</td>\n",
       "      <td>2</td>\n",
       "      <td>2</td>\n",
       "      <td>2</td>\n",
       "      <td>1</td>\n",
       "      <td>9</td>\n",
       "      <td>1</td>\n",
       "      <td>0</td>\n",
       "      <td>2</td>\n",
       "      <td>...</td>\n",
       "      <td>0</td>\n",
       "      <td>0</td>\n",
       "      <td>0</td>\n",
       "      <td>0</td>\n",
       "      <td>1</td>\n",
       "      <td>2015</td>\n",
       "      <td>9</td>\n",
       "      <td>6</td>\n",
       "      <td>9</td>\n",
       "      <td>0</td>\n",
       "    </tr>\n",
       "  </tbody>\n",
       "</table>\n",
       "<p>1 rows × 24 columns</p>\n",
       "</div>"
      ],
      "text/plain": [
       "   AccLocation  NatureAccident ClassificationOfAccident Causes  RoadFeature  \\\n",
       "0  Ch. 69.5006               2                        2      2            2   \n",
       "\n",
       "   RoadCondition  IntersectionTypeControl  WeatherCondition  Fatal  Grevious  \\\n",
       "0              1                        9                 1      0         2   \n",
       "\n",
       "   ...  VehicleResponsible_1  VehicleResponsible_2  VehicleResponsible_3  \\\n",
       "0  ...                     0                     0                     0   \n",
       "\n",
       "  HelpProvidedBy_Ambulance/Petrol Vehicle  HelpProvidedBy_Petrol Vehicle  \\\n",
       "0                                       0                              1   \n",
       "\n",
       "   AccYear  AccMonth  AccDay  HourOfAccident  PM  \n",
       "0     2015         9       6               9   0  \n",
       "\n",
       "[1 rows x 24 columns]"
      ]
     },
     "execution_count": 492,
     "metadata": {},
     "output_type": "execute_result"
    }
   ],
   "source": [
    "data.head(1)"
   ]
  },
  {
   "cell_type": "code",
   "execution_count": 493,
   "metadata": {},
   "outputs": [],
   "source": [
    "data=data.drop(['AccLocation','Remarks'],axis=1)"
   ]
  },
  {
   "cell_type": "code",
   "execution_count": 494,
   "metadata": {},
   "outputs": [],
   "source": [
    "data = data[~data['Causes'].str.contains('-')]"
   ]
  },
  {
   "cell_type": "code",
   "execution_count": 495,
   "metadata": {},
   "outputs": [
    {
     "data": {
      "text/plain": [
       "Index(['NatureAccident', 'ClassificationOfAccident', 'Causes', 'RoadFeature',\n",
       "       'RoadCondition', 'IntersectionTypeControl', 'WeatherCondition', 'Fatal',\n",
       "       'Grevious', 'Minor', 'Injured', 'NumAnimalsKilled',\n",
       "       'VehicleResponsible_1', 'VehicleResponsible_2', 'VehicleResponsible_3',\n",
       "       'HelpProvidedBy_Ambulance/Petrol Vehicle',\n",
       "       'HelpProvidedBy_Petrol Vehicle', 'AccYear', 'AccMonth', 'AccDay',\n",
       "       'HourOfAccident', 'PM'],\n",
       "      dtype='object')"
      ]
     },
     "execution_count": 495,
     "metadata": {},
     "output_type": "execute_result"
    }
   ],
   "source": [
    "data.columns"
   ]
  },
  {
   "cell_type": "code",
   "execution_count": 496,
   "metadata": {},
   "outputs": [],
   "source": [
    "data.drop(['NumAnimalsKilled','Injured','WeatherCondition',\n",
    "           'HelpProvidedBy_Ambulance/Petrol Vehicle','HelpProvidedBy_Petrol Vehicle',\n",
    "           'IntersectionTypeControl','PM'],\n",
    "          axis=1,inplace=True)"
   ]
  },
  {
   "cell_type": "code",
   "execution_count": 497,
   "metadata": {},
   "outputs": [
    {
     "data": {
      "text/plain": [
       "array(['2', '1', '3', '4'], dtype=object)"
      ]
     },
     "execution_count": 497,
     "metadata": {},
     "output_type": "execute_result"
    }
   ],
   "source": [
    "data.ClassificationOfAccident.unique()"
   ]
  },
  {
   "cell_type": "code",
   "execution_count": 498,
   "metadata": {},
   "outputs": [
    {
     "data": {
      "text/plain": [
       "(81, 15)"
      ]
     },
     "execution_count": 498,
     "metadata": {},
     "output_type": "execute_result"
    }
   ],
   "source": [
    "data.shape"
   ]
  },
  {
   "cell_type": "markdown",
   "metadata": {},
   "source": [
    "MODEL CREATION"
   ]
  },
  {
   "cell_type": "code",
   "execution_count": 499,
   "metadata": {},
   "outputs": [],
   "source": [
    "data2015 = data.loc [data.AccYear==2015, data.columns[:]] # type: ignore\n",
    "data2014 = data.loc [data.AccYear==2014, data.columns[:]] # type: ignore"
   ]
  },
  {
   "cell_type": "code",
   "execution_count": 500,
   "metadata": {},
   "outputs": [],
   "source": [
    "data2014.drop(['AccYear'],axis=1,inplace=True)\n",
    "data2015.drop(['AccYear'],axis=1,inplace=True)"
   ]
  },
  {
   "cell_type": "code",
   "execution_count": 501,
   "metadata": {},
   "outputs": [
    {
     "data": {
      "text/plain": [
       "((31, 14), (46, 14))"
      ]
     },
     "execution_count": 501,
     "metadata": {},
     "output_type": "execute_result"
    }
   ],
   "source": [
    "data2014.shape, data2015.shape"
   ]
  },
  {
   "cell_type": "code",
   "execution_count": 502,
   "metadata": {},
   "outputs": [],
   "source": [
    "train_y=data2014['ClassificationOfAccident']\n",
    "train_X=data2014.drop(['ClassificationOfAccident'],axis=1)\n",
    "\n",
    "test_y=data2015['ClassificationOfAccident']\n",
    "test_x=data2015.drop(['ClassificationOfAccident'],axis=1)"
   ]
  },
  {
   "cell_type": "code",
   "execution_count": 503,
   "metadata": {},
   "outputs": [],
   "source": [
    "#random forest\n",
    "\n",
    "from sklearn.ensemble import RandomForestClassifier\n",
    "\n",
    "#classificaiton metrics\n",
    "\n",
    "from sklearn.metrics import classification_report, confusion_matrix, accuracy_score"
   ]
  },
  {
   "cell_type": "code",
   "execution_count": 504,
   "metadata": {},
   "outputs": [],
   "source": [
    "rf = RandomForestClassifier(n_estimators=10000,\n",
    "        max_depth=10,\n",
    "        max_features='auto',\n",
    "        bootstrap=True,\n",
    "        oob_score=True,\n",
    "        criterion='entropy')\n",
    "\n",
    "rf.fit(train_X, train_y)\n",
    "\n",
    "predicted_y_with_test_data = rf.predict(test_x)"
   ]
  },
  {
   "cell_type": "code",
   "execution_count": 505,
   "metadata": {},
   "outputs": [
    {
     "name": "stdout",
     "output_type": "stream",
     "text": [
      "Accuracy with test data:  0.6739130434782609\n",
      "Confusion Matrix with test data: \n",
      " [[ 7  0  1  0]\n",
      " [ 2  9  6  0]\n",
      " [ 0  0 13  0]\n",
      " [ 0  2  4  2]]\n",
      "Classification Report with test data: \n",
      "               precision    recall  f1-score   support\n",
      "\n",
      "           1       0.78      0.88      0.82         8\n",
      "           2       0.82      0.53      0.64        17\n",
      "           3       0.54      1.00      0.70        13\n",
      "           4       1.00      0.25      0.40         8\n",
      "\n",
      "    accuracy                           0.67        46\n",
      "   macro avg       0.78      0.66      0.64        46\n",
      "weighted avg       0.76      0.67      0.65        46\n",
      "\n"
     ]
    }
   ],
   "source": [
    "print(\"Accuracy with test data: \", accuracy_score(test_y, predicted_y_with_test_data))\n",
    "\n",
    "print(\"Confusion Matrix with test data: \\n\", confusion_matrix(test_y, predicted_y_with_test_data))\n",
    "\n",
    "print(\"Classification Report with test data: \\n\", classification_report(test_y, predicted_y_with_test_data))"
   ]
  },
  {
   "cell_type": "code",
   "execution_count": 507,
   "metadata": {},
   "outputs": [
    {
     "data": {
      "text/html": [
       "<div>\n",
       "<style scoped>\n",
       "    .dataframe tbody tr th:only-of-type {\n",
       "        vertical-align: middle;\n",
       "    }\n",
       "\n",
       "    .dataframe tbody tr th {\n",
       "        vertical-align: top;\n",
       "    }\n",
       "\n",
       "    .dataframe thead th {\n",
       "        text-align: right;\n",
       "    }\n",
       "</style>\n",
       "<table border=\"1\" class=\"dataframe\">\n",
       "  <thead>\n",
       "    <tr style=\"text-align: right;\">\n",
       "      <th></th>\n",
       "      <th>feature</th>\n",
       "      <th>importance</th>\n",
       "    </tr>\n",
       "  </thead>\n",
       "  <tbody>\n",
       "    <tr>\n",
       "      <th>4</th>\n",
       "      <td>Fatal</td>\n",
       "      <td>0.211004</td>\n",
       "    </tr>\n",
       "    <tr>\n",
       "      <th>5</th>\n",
       "      <td>Grevious</td>\n",
       "      <td>0.125484</td>\n",
       "    </tr>\n",
       "    <tr>\n",
       "      <th>6</th>\n",
       "      <td>Minor</td>\n",
       "      <td>0.120896</td>\n",
       "    </tr>\n",
       "    <tr>\n",
       "      <th>0</th>\n",
       "      <td>NatureAccident</td>\n",
       "      <td>0.085029</td>\n",
       "    </tr>\n",
       "    <tr>\n",
       "      <th>1</th>\n",
       "      <td>Causes</td>\n",
       "      <td>0.082723</td>\n",
       "    </tr>\n",
       "  </tbody>\n",
       "</table>\n",
       "</div>"
      ],
      "text/plain": [
       "          feature  importance\n",
       "4           Fatal    0.211004\n",
       "5        Grevious    0.125484\n",
       "6           Minor    0.120896\n",
       "0  NatureAccident    0.085029\n",
       "1          Causes    0.082723"
      ]
     },
     "execution_count": 507,
     "metadata": {},
     "output_type": "execute_result"
    }
   ],
   "source": [
    "#identify important features\n",
    "\n",
    "importances = rf.feature_importances_\n",
    "indices = np.argsort(importances)[::-1]\n",
    "features = train_X.columns\n",
    "\n",
    "\n",
    "#dataframe of important features\n",
    "\n",
    "feature_importance = pd.DataFrame({'feature':features,'importance':importances})\n",
    "feature_importance.sort_values(by='importance',ascending=False,inplace=True)\n",
    "feature_importance.head(5)"
   ]
  }
 ],
 "metadata": {
  "kernelspec": {
   "display_name": "Python 3.10.4 64-bit",
   "language": "python",
   "name": "python3"
  },
  "language_info": {
   "codemirror_mode": {
    "name": "ipython",
    "version": 3
   },
   "file_extension": ".py",
   "mimetype": "text/x-python",
   "name": "python",
   "nbconvert_exporter": "python",
   "pygments_lexer": "ipython3",
   "version": "3.10.4"
  },
  "orig_nbformat": 4,
  "vscode": {
   "interpreter": {
    "hash": "0c4598cb0e8224ee4992ef7f7aa2c97883472946fa3b7b41abaa0dd95d9de624"
   }
  }
 },
 "nbformat": 4,
 "nbformat_minor": 2
}
