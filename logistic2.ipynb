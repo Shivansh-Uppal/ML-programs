{
 "cells": [
  {
   "cell_type": "code",
   "execution_count": 81,
   "metadata": {},
   "outputs": [],
   "source": [
    "%matplotlib inline\n",
    "import numpy as np\n",
    "import matplotlib.pyplot as plt\n",
    "import pandas as pd\n",
    "import seaborn as sns"
   ]
  },
  {
   "cell_type": "code",
   "execution_count": 82,
   "metadata": {},
   "outputs": [],
   "source": [
    "data=pd.read_csv(r\"C:\\programming languages\\AI ML\\ransomware2.csv\")"
   ]
  },
  {
   "cell_type": "code",
   "execution_count": 83,
   "metadata": {},
   "outputs": [
    {
     "name": "stdout",
     "output_type": "stream",
     "text": [
      "<class 'pandas.core.frame.DataFrame'>\n",
      "RangeIndex: 1048575 entries, 0 to 1048574\n",
      "Data columns (total 10 columns):\n",
      " #   Column     Non-Null Count    Dtype  \n",
      "---  ------     --------------    -----  \n",
      " 0   address    1048575 non-null  object \n",
      " 1   year       1048575 non-null  int64  \n",
      " 2   day        1048575 non-null  int64  \n",
      " 3   length     1048575 non-null  int64  \n",
      " 4   weight     1048575 non-null  float64\n",
      " 5   count      1048575 non-null  int64  \n",
      " 6   looped     1048575 non-null  int64  \n",
      " 7   neighbors  1048575 non-null  int64  \n",
      " 8   income     1048575 non-null  float64\n",
      " 9   label      1048575 non-null  object \n",
      "dtypes: float64(2), int64(6), object(2)\n",
      "memory usage: 80.0+ MB\n"
     ]
    }
   ],
   "source": [
    "data.info()"
   ]
  },
  {
   "cell_type": "code",
   "execution_count": 84,
   "metadata": {},
   "outputs": [
    {
     "data": {
      "text/html": [
       "<div>\n",
       "<style scoped>\n",
       "    .dataframe tbody tr th:only-of-type {\n",
       "        vertical-align: middle;\n",
       "    }\n",
       "\n",
       "    .dataframe tbody tr th {\n",
       "        vertical-align: top;\n",
       "    }\n",
       "\n",
       "    .dataframe thead th {\n",
       "        text-align: right;\n",
       "    }\n",
       "</style>\n",
       "<table border=\"1\" class=\"dataframe\">\n",
       "  <thead>\n",
       "    <tr style=\"text-align: right;\">\n",
       "      <th></th>\n",
       "      <th>address</th>\n",
       "      <th>year</th>\n",
       "      <th>day</th>\n",
       "      <th>length</th>\n",
       "      <th>weight</th>\n",
       "      <th>count</th>\n",
       "      <th>looped</th>\n",
       "      <th>neighbors</th>\n",
       "      <th>income</th>\n",
       "      <th>label</th>\n",
       "    </tr>\n",
       "  </thead>\n",
       "  <tbody>\n",
       "    <tr>\n",
       "      <th>0</th>\n",
       "      <td>111K8kZAEnJg245r2cM6y9zgJGHZtJPy6</td>\n",
       "      <td>2017</td>\n",
       "      <td>11</td>\n",
       "      <td>18</td>\n",
       "      <td>8.333333e-03</td>\n",
       "      <td>1</td>\n",
       "      <td>0</td>\n",
       "      <td>2</td>\n",
       "      <td>100050000.0</td>\n",
       "      <td>princetonCerber</td>\n",
       "    </tr>\n",
       "    <tr>\n",
       "      <th>1</th>\n",
       "      <td>1123pJv8jzeFQaCV4w644pzQJzVWay2zcA</td>\n",
       "      <td>2016</td>\n",
       "      <td>132</td>\n",
       "      <td>44</td>\n",
       "      <td>2.441410e-04</td>\n",
       "      <td>1</td>\n",
       "      <td>0</td>\n",
       "      <td>1</td>\n",
       "      <td>100000000.0</td>\n",
       "      <td>princetonLocky</td>\n",
       "    </tr>\n",
       "    <tr>\n",
       "      <th>2</th>\n",
       "      <td>112536im7hy6wtKbpH1qYDWtTyMRAcA2p7</td>\n",
       "      <td>2016</td>\n",
       "      <td>246</td>\n",
       "      <td>0</td>\n",
       "      <td>1.000000e+00</td>\n",
       "      <td>1</td>\n",
       "      <td>0</td>\n",
       "      <td>2</td>\n",
       "      <td>200000000.0</td>\n",
       "      <td>princetonCerber</td>\n",
       "    </tr>\n",
       "    <tr>\n",
       "      <th>3</th>\n",
       "      <td>1126eDRw2wqSkWosjTCre8cjjQW8sSeWH7</td>\n",
       "      <td>2016</td>\n",
       "      <td>322</td>\n",
       "      <td>72</td>\n",
       "      <td>3.906250e-03</td>\n",
       "      <td>1</td>\n",
       "      <td>0</td>\n",
       "      <td>2</td>\n",
       "      <td>71200000.0</td>\n",
       "      <td>princetonCerber</td>\n",
       "    </tr>\n",
       "    <tr>\n",
       "      <th>4</th>\n",
       "      <td>1129TSjKtx65E35GiUo4AYVeyo48twbrGX</td>\n",
       "      <td>2016</td>\n",
       "      <td>238</td>\n",
       "      <td>144</td>\n",
       "      <td>7.284841e-02</td>\n",
       "      <td>456</td>\n",
       "      <td>0</td>\n",
       "      <td>1</td>\n",
       "      <td>200000000.0</td>\n",
       "      <td>princetonLocky</td>\n",
       "    </tr>\n",
       "    <tr>\n",
       "      <th>5</th>\n",
       "      <td>112AmFATxzhuSpvtz1hfpa3Zrw3BG276pc</td>\n",
       "      <td>2016</td>\n",
       "      <td>96</td>\n",
       "      <td>144</td>\n",
       "      <td>8.461400e-02</td>\n",
       "      <td>2821</td>\n",
       "      <td>0</td>\n",
       "      <td>1</td>\n",
       "      <td>50000000.0</td>\n",
       "      <td>princetonLocky</td>\n",
       "    </tr>\n",
       "    <tr>\n",
       "      <th>6</th>\n",
       "      <td>112E91jxS2qrQY1z78LPWUWrLVFGqbYPQ1</td>\n",
       "      <td>2016</td>\n",
       "      <td>225</td>\n",
       "      <td>142</td>\n",
       "      <td>2.088519e-03</td>\n",
       "      <td>881</td>\n",
       "      <td>0</td>\n",
       "      <td>2</td>\n",
       "      <td>100000000.0</td>\n",
       "      <td>princetonCerber</td>\n",
       "    </tr>\n",
       "    <tr>\n",
       "      <th>7</th>\n",
       "      <td>112eFykaD53KEkKeYW9KW8eWebZYSbt2f5</td>\n",
       "      <td>2016</td>\n",
       "      <td>324</td>\n",
       "      <td>78</td>\n",
       "      <td>3.906250e-03</td>\n",
       "      <td>1</td>\n",
       "      <td>0</td>\n",
       "      <td>2</td>\n",
       "      <td>100990000.0</td>\n",
       "      <td>princetonCerber</td>\n",
       "    </tr>\n",
       "    <tr>\n",
       "      <th>8</th>\n",
       "      <td>112FTiRdJjMrNgEtd4fvdoq3TC33Ah5Dep</td>\n",
       "      <td>2016</td>\n",
       "      <td>298</td>\n",
       "      <td>144</td>\n",
       "      <td>2.302828e+00</td>\n",
       "      <td>4220</td>\n",
       "      <td>0</td>\n",
       "      <td>2</td>\n",
       "      <td>80000000.0</td>\n",
       "      <td>princetonCerber</td>\n",
       "    </tr>\n",
       "    <tr>\n",
       "      <th>9</th>\n",
       "      <td>112GocBgFSnaote6krx828qaockFraD8mp</td>\n",
       "      <td>2016</td>\n",
       "      <td>62</td>\n",
       "      <td>112</td>\n",
       "      <td>3.730000e-09</td>\n",
       "      <td>1</td>\n",
       "      <td>0</td>\n",
       "      <td>1</td>\n",
       "      <td>50000000.0</td>\n",
       "      <td>princetonLocky</td>\n",
       "    </tr>\n",
       "  </tbody>\n",
       "</table>\n",
       "</div>"
      ],
      "text/plain": [
       "                              address  year  day  length        weight  count  \\\n",
       "0   111K8kZAEnJg245r2cM6y9zgJGHZtJPy6  2017   11      18  8.333333e-03      1   \n",
       "1  1123pJv8jzeFQaCV4w644pzQJzVWay2zcA  2016  132      44  2.441410e-04      1   \n",
       "2  112536im7hy6wtKbpH1qYDWtTyMRAcA2p7  2016  246       0  1.000000e+00      1   \n",
       "3  1126eDRw2wqSkWosjTCre8cjjQW8sSeWH7  2016  322      72  3.906250e-03      1   \n",
       "4  1129TSjKtx65E35GiUo4AYVeyo48twbrGX  2016  238     144  7.284841e-02    456   \n",
       "5  112AmFATxzhuSpvtz1hfpa3Zrw3BG276pc  2016   96     144  8.461400e-02   2821   \n",
       "6  112E91jxS2qrQY1z78LPWUWrLVFGqbYPQ1  2016  225     142  2.088519e-03    881   \n",
       "7  112eFykaD53KEkKeYW9KW8eWebZYSbt2f5  2016  324      78  3.906250e-03      1   \n",
       "8  112FTiRdJjMrNgEtd4fvdoq3TC33Ah5Dep  2016  298     144  2.302828e+00   4220   \n",
       "9  112GocBgFSnaote6krx828qaockFraD8mp  2016   62     112  3.730000e-09      1   \n",
       "\n",
       "   looped  neighbors       income            label  \n",
       "0       0          2  100050000.0  princetonCerber  \n",
       "1       0          1  100000000.0   princetonLocky  \n",
       "2       0          2  200000000.0  princetonCerber  \n",
       "3       0          2   71200000.0  princetonCerber  \n",
       "4       0          1  200000000.0   princetonLocky  \n",
       "5       0          1   50000000.0   princetonLocky  \n",
       "6       0          2  100000000.0  princetonCerber  \n",
       "7       0          2  100990000.0  princetonCerber  \n",
       "8       0          2   80000000.0  princetonCerber  \n",
       "9       0          1   50000000.0   princetonLocky  "
      ]
     },
     "execution_count": 84,
     "metadata": {},
     "output_type": "execute_result"
    }
   ],
   "source": [
    "data.head(10)"
   ]
  },
  {
   "cell_type": "code",
   "execution_count": 85,
   "metadata": {},
   "outputs": [
    {
     "data": {
      "text/html": [
       "<div>\n",
       "<style scoped>\n",
       "    .dataframe tbody tr th:only-of-type {\n",
       "        vertical-align: middle;\n",
       "    }\n",
       "\n",
       "    .dataframe tbody tr th {\n",
       "        vertical-align: top;\n",
       "    }\n",
       "\n",
       "    .dataframe thead th {\n",
       "        text-align: right;\n",
       "    }\n",
       "</style>\n",
       "<table border=\"1\" class=\"dataframe\">\n",
       "  <thead>\n",
       "    <tr style=\"text-align: right;\">\n",
       "      <th></th>\n",
       "      <th>year</th>\n",
       "      <th>day</th>\n",
       "      <th>length</th>\n",
       "      <th>weight</th>\n",
       "      <th>count</th>\n",
       "      <th>looped</th>\n",
       "      <th>neighbors</th>\n",
       "      <th>income</th>\n",
       "    </tr>\n",
       "  </thead>\n",
       "  <tbody>\n",
       "    <tr>\n",
       "      <th>count</th>\n",
       "      <td>1.048575e+06</td>\n",
       "      <td>1.048575e+06</td>\n",
       "      <td>1.048575e+06</td>\n",
       "      <td>1.048575e+06</td>\n",
       "      <td>1.048575e+06</td>\n",
       "      <td>1.048575e+06</td>\n",
       "      <td>1.048575e+06</td>\n",
       "      <td>1.048575e+06</td>\n",
       "    </tr>\n",
       "    <tr>\n",
       "      <th>mean</th>\n",
       "      <td>2.012048e+03</td>\n",
       "      <td>1.735295e+02</td>\n",
       "      <td>2.631742e+01</td>\n",
       "      <td>5.406222e-01</td>\n",
       "      <td>1.582070e+02</td>\n",
       "      <td>3.608665e+01</td>\n",
       "      <td>2.324220e+00</td>\n",
       "      <td>9.026359e+09</td>\n",
       "    </tr>\n",
       "    <tr>\n",
       "      <th>std</th>\n",
       "      <td>1.005057e+00</td>\n",
       "      <td>1.001409e+02</td>\n",
       "      <td>4.272004e+01</td>\n",
       "      <td>2.990846e+00</td>\n",
       "      <td>6.024127e+02</td>\n",
       "      <td>2.884734e+02</td>\n",
       "      <td>1.862359e+01</td>\n",
       "      <td>2.555870e+11</td>\n",
       "    </tr>\n",
       "    <tr>\n",
       "      <th>min</th>\n",
       "      <td>2.011000e+03</td>\n",
       "      <td>1.000000e+00</td>\n",
       "      <td>0.000000e+00</td>\n",
       "      <td>3.610000e-94</td>\n",
       "      <td>1.000000e+00</td>\n",
       "      <td>0.000000e+00</td>\n",
       "      <td>1.000000e+00</td>\n",
       "      <td>3.000000e+07</td>\n",
       "    </tr>\n",
       "    <tr>\n",
       "      <th>25%</th>\n",
       "      <td>2.011000e+03</td>\n",
       "      <td>8.800000e+01</td>\n",
       "      <td>0.000000e+00</td>\n",
       "      <td>1.897321e-02</td>\n",
       "      <td>1.000000e+00</td>\n",
       "      <td>0.000000e+00</td>\n",
       "      <td>1.000000e+00</td>\n",
       "      <td>1.086922e+08</td>\n",
       "    </tr>\n",
       "    <tr>\n",
       "      <th>50%</th>\n",
       "      <td>2.012000e+03</td>\n",
       "      <td>1.710000e+02</td>\n",
       "      <td>6.000000e+00</td>\n",
       "      <td>2.500000e-01</td>\n",
       "      <td>1.000000e+00</td>\n",
       "      <td>0.000000e+00</td>\n",
       "      <td>2.000000e+00</td>\n",
       "      <td>5.000000e+08</td>\n",
       "    </tr>\n",
       "    <tr>\n",
       "      <th>75%</th>\n",
       "      <td>2.013000e+03</td>\n",
       "      <td>2.560000e+02</td>\n",
       "      <td>2.800000e+01</td>\n",
       "      <td>5.606003e-01</td>\n",
       "      <td>8.000000e+00</td>\n",
       "      <td>0.000000e+00</td>\n",
       "      <td>2.000000e+00</td>\n",
       "      <td>2.519020e+09</td>\n",
       "    </tr>\n",
       "    <tr>\n",
       "      <th>max</th>\n",
       "      <td>2.018000e+03</td>\n",
       "      <td>3.650000e+02</td>\n",
       "      <td>1.440000e+02</td>\n",
       "      <td>4.982885e+02</td>\n",
       "      <td>1.346200e+04</td>\n",
       "      <td>1.169300e+04</td>\n",
       "      <td>3.776000e+03</td>\n",
       "      <td>4.996440e+13</td>\n",
       "    </tr>\n",
       "  </tbody>\n",
       "</table>\n",
       "</div>"
      ],
      "text/plain": [
       "               year           day        length        weight         count  \\\n",
       "count  1.048575e+06  1.048575e+06  1.048575e+06  1.048575e+06  1.048575e+06   \n",
       "mean   2.012048e+03  1.735295e+02  2.631742e+01  5.406222e-01  1.582070e+02   \n",
       "std    1.005057e+00  1.001409e+02  4.272004e+01  2.990846e+00  6.024127e+02   \n",
       "min    2.011000e+03  1.000000e+00  0.000000e+00  3.610000e-94  1.000000e+00   \n",
       "25%    2.011000e+03  8.800000e+01  0.000000e+00  1.897321e-02  1.000000e+00   \n",
       "50%    2.012000e+03  1.710000e+02  6.000000e+00  2.500000e-01  1.000000e+00   \n",
       "75%    2.013000e+03  2.560000e+02  2.800000e+01  5.606003e-01  8.000000e+00   \n",
       "max    2.018000e+03  3.650000e+02  1.440000e+02  4.982885e+02  1.346200e+04   \n",
       "\n",
       "             looped     neighbors        income  \n",
       "count  1.048575e+06  1.048575e+06  1.048575e+06  \n",
       "mean   3.608665e+01  2.324220e+00  9.026359e+09  \n",
       "std    2.884734e+02  1.862359e+01  2.555870e+11  \n",
       "min    0.000000e+00  1.000000e+00  3.000000e+07  \n",
       "25%    0.000000e+00  1.000000e+00  1.086922e+08  \n",
       "50%    0.000000e+00  2.000000e+00  5.000000e+08  \n",
       "75%    0.000000e+00  2.000000e+00  2.519020e+09  \n",
       "max    1.169300e+04  3.776000e+03  4.996440e+13  "
      ]
     },
     "execution_count": 85,
     "metadata": {},
     "output_type": "execute_result"
    }
   ],
   "source": [
    "data.describe()"
   ]
  },
  {
   "cell_type": "code",
   "execution_count": 86,
   "metadata": {},
   "outputs": [
    {
     "data": {
      "text/plain": [
       "(1048575, 10)"
      ]
     },
     "execution_count": 86,
     "metadata": {},
     "output_type": "execute_result"
    }
   ],
   "source": [
    "data.shape"
   ]
  },
  {
   "cell_type": "code",
   "execution_count": 87,
   "metadata": {},
   "outputs": [],
   "source": [
    "data = data.drop(['year'], axis=1)\n",
    "data = data.drop(['day'], axis=1)\n",
    "data = data.drop(['address'], axis=1)"
   ]
  },
  {
   "cell_type": "markdown",
   "metadata": {},
   "source": [
    "#EXPLAINING DATA PROSPECTS"
   ]
  },
  {
   "cell_type": "code",
   "execution_count": 88,
   "metadata": {},
   "outputs": [
    {
     "name": "stdout",
     "output_type": "stream",
     "text": [
      "             length    weight     count    looped  neighbors    income\n",
      "length     1.000000  0.060180  0.662717  0.326880   0.080992  0.009642\n",
      "weight     0.060180  1.000000  0.101587  0.236314   0.763195  0.038861\n",
      "count      0.662717  0.101587  1.000000  0.478515   0.088426 -0.003556\n",
      "looped     0.326880  0.236314  0.478515  1.000000   0.192995  0.001996\n",
      "neighbors  0.080992  0.763195  0.088426  0.192995   1.000000  0.084670\n",
      "income     0.009642  0.038861 -0.003556  0.001996   0.084670  1.000000\n"
     ]
    }
   ],
   "source": [
    "corr = data.corr()\n",
    "print(corr)"
   ]
  },
  {
   "cell_type": "code",
   "execution_count": 89,
   "metadata": {},
   "outputs": [
    {
     "data": {
      "image/png": "[encoded data removed]",
      "text/plain": [
       "<Figure size 432x288 with 2 Axes>"
      ]
     },
     "metadata": {
      "needs_background": "light"
     },
     "output_type": "display_data"
    }
   ],
   "source": [
    "sns.heatmap(corr, xticklabels=corr.columns,yticklabels=corr.columns)\n",
    "plt.show()"
   ]
  },
  {
   "cell_type": "code",
   "execution_count": 90,
   "metadata": {},
   "outputs": [
    {
     "data": {
      "image/png": "[encoded data removed]",
      "text/plain": [
       "<Figure size 432x288 with 1 Axes>"
      ]
     },
     "metadata": {
      "needs_background": "light"
     },
     "output_type": "display_data"
    }
   ],
   "source": [
    "#basic correlation graphs\n",
    "plt.scatter(data['neighbors'],data['weight'])\n",
    "plt.show()"
   ]
  },
  {
   "cell_type": "code",
   "execution_count": 91,
   "metadata": {},
   "outputs": [
    {
     "name": "stdout",
     "output_type": "stream",
     "text": [
      "white                          1007162\n",
      "paduaCryptoWall                  12390\n",
      "montrealCryptoLocker              9315\n",
      "princetonCerber                   9223\n",
      "princetonLocky                    6625\n",
      "montrealCryptXXX                  2419\n",
      "montrealNoobCrypt                  483\n",
      "montrealDMALockerv3                354\n",
      "montrealDMALocker                  251\n",
      "montrealSamSam                      62\n",
      "montrealCryptoTorLocker2015         55\n",
      "montrealGlobeImposter               55\n",
      "montrealGlobev3                     34\n",
      "montrealGlobe                       32\n",
      "montrealWannaCry                    28\n",
      "montrealRazy                        13\n",
      "montrealAPT                         11\n",
      "paduaKeRanger                       10\n",
      "montrealFlyper                       9\n",
      "montrealXTPLocker                    8\n",
      "montrealXLockerv5.0                  7\n",
      "montrealVenusLocker                  7\n",
      "montrealCryptConsole                 7\n",
      "montrealEDA2                         6\n",
      "montrealJigSaw                       4\n",
      "paduaJigsaw                          2\n",
      "montrealXLocker                      1\n",
      "montrealSam                          1\n",
      "montrealComradeCircle                1\n",
      "Name: label, dtype: int64\n"
     ]
    }
   ],
   "source": [
    "print(data['label'].value_counts())"
   ]
  },
  {
   "cell_type": "code",
   "execution_count": 92,
   "metadata": {},
   "outputs": [
    {
     "data": {
      "text/plain": [
       "<AxesSubplot:ylabel='Frequency'>"
      ]
     },
     "execution_count": 92,
     "metadata": {},
     "output_type": "execute_result"
    },
    {
     "data": {
      "image/png": "[encoded data removed]",
      "text/plain": [
       "<Figure size 720x360 with 1 Axes>"
      ]
     },
     "metadata": {
      "needs_background": "light"
     },
     "output_type": "display_data"
    }
   ],
   "source": [
    "data[\"count\"].plot.hist(figsize=[10,5])"
   ]
  },
  {
   "cell_type": "code",
   "execution_count": 93,
   "metadata": {},
   "outputs": [
    {
     "data": {
      "text/plain": [
       "0          0\n",
       "1          0\n",
       "2          0\n",
       "3          0\n",
       "4          0\n",
       "          ..\n",
       "1048570    1\n",
       "1048571    1\n",
       "1048572    1\n",
       "1048573    1\n",
       "1048574    1\n",
       "Name: white, Length: 1048575, dtype: uint8"
      ]
     },
     "execution_count": 93,
     "metadata": {},
     "output_type": "execute_result"
    }
   ],
   "source": [
    "# convert label to categorical\n",
    "data['label'] = data['label'].astype('category')\n",
    "# make a copy of the dataframe\n",
    "data_copy = data.copy()\n",
    "# perform get_dummies on label\n",
    "label_encode = pd.get_dummies(data_copy.label)\n",
    "label_encode.white"
   ]
  },
  {
   "cell_type": "code",
   "execution_count": 94,
   "metadata": {},
   "outputs": [
    {
     "name": "stdout",
     "output_type": "stream",
     "text": [
      "   length    weight  count  looped  neighbors       income  label_encoded\n",
      "0      18  0.008333      1       0          2  100050000.0              0\n",
      "1      44  0.000244      1       0          1  100000000.0              0\n",
      "2       0  1.000000      1       0          2  200000000.0              0\n",
      "3      72  0.003906      1       0          2   71200000.0              0\n",
      "4     144  0.072848    456       0          1  200000000.0              0\n"
     ]
    }
   ],
   "source": [
    "# make a new column called 'label_encoded' in df\n",
    "data['label_encoded'] = label_encode.white\n",
    "# drop label column\n",
    "data = data.drop(['label'], axis=1)\n",
    "# reset index\n",
    "data = data.reset_index(drop=True)\n",
    "# get top 5 rows of the dataframe\n",
    "print(data.head())"
   ]
  },
  {
   "cell_type": "code",
   "execution_count": 95,
   "metadata": {},
   "outputs": [
    {
     "name": "stdout",
     "output_type": "stream",
     "text": [
      "                 length    weight     count    looped  neighbors    income  \\\n",
      "length         1.000000  0.060180  0.662717  0.326880   0.080992  0.009642   \n",
      "weight         0.060180  1.000000  0.101587  0.236314   0.763195  0.038861   \n",
      "count          0.662717  0.101587  1.000000  0.478515   0.088426 -0.003556   \n",
      "looped         0.326880  0.236314  0.478515  1.000000   0.192995  0.001996   \n",
      "neighbors      0.080992  0.763195  0.088426  0.192995   1.000000  0.084670   \n",
      "income         0.009642  0.038861 -0.003556  0.001996   0.084670  1.000000   \n",
      "label_encoded -0.072716 -0.005887 -0.148647 -0.041483   0.002700  0.006540   \n",
      "\n",
      "               label_encoded  \n",
      "length             -0.072716  \n",
      "weight             -0.005887  \n",
      "count              -0.148647  \n",
      "looped             -0.041483  \n",
      "neighbors           0.002700  \n",
      "income              0.006540  \n",
      "label_encoded       1.000000  \n"
     ]
    },
    {
     "data": {
      "image/png": "[encoded data removed]",
      "text/plain": [
       "<Figure size 432x288 with 2 Axes>"
      ]
     },
     "metadata": {
      "needs_background": "light"
     },
     "output_type": "display_data"
    }
   ],
   "source": [
    "corr = data.corr()\n",
    "print(corr)\n",
    "# heatmap\n",
    "sns.heatmap(corr, xticklabels=corr.columns, yticklabels=corr.columns)\n",
    "plt.show()"
   ]
  },
  {
   "cell_type": "code",
   "execution_count": 96,
   "metadata": {},
   "outputs": [],
   "source": [
    "# if neighbours is greater than log(2) then encode it as 0 else encode it as 1\n",
    "data['neighbors'] = np.where(data['neighbors'] > np.log(2), 0, 1)\n",
    "# if length is greater than log(8) then encode it as 0 else encode it as 1\n",
    "data['length'] = np.where(data['length'] > np.log(8), 0, 1)\n",
    "# if count is greater than log(1) then encode it as 0 else encode it as 1\n",
    "data['count'] = np.where(data['count'] > np.log(1), 0, 1)\n",
    "# if looped is greater than log(1) then encode it as 0 else encode it as 1\n",
    "data['looped'] = np.where(data['looped'] > np.log(1), 0, 1)"
   ]
  },
  {
   "cell_type": "code",
   "execution_count": 97,
   "metadata": {},
   "outputs": [
    {
     "name": "stdout",
     "output_type": "stream",
     "text": [
      "                 length    weight  count    looped  neighbors    income  \\\n",
      "length         1.000000  0.024598    NaN  0.183622        NaN -0.009837   \n",
      "weight         0.024598  1.000000    NaN -0.145914        NaN  0.038861   \n",
      "count               NaN       NaN    NaN       NaN        NaN       NaN   \n",
      "looped         0.183622 -0.145914    NaN  1.000000        NaN -0.007747   \n",
      "neighbors           NaN       NaN    NaN       NaN        NaN       NaN   \n",
      "income        -0.009837  0.038861    NaN -0.007747        NaN  1.000000   \n",
      "label_encoded  0.020340 -0.005887    NaN  0.028435        NaN  0.006540   \n",
      "\n",
      "               label_encoded  \n",
      "length              0.020340  \n",
      "weight             -0.005887  \n",
      "count                    NaN  \n",
      "looped              0.028435  \n",
      "neighbors                NaN  \n",
      "income              0.006540  \n",
      "label_encoded       1.000000  \n"
     ]
    },
    {
     "data": {
      "image/png": "[encoded data removed]",
      "text/plain": [
       "<Figure size 432x288 with 2 Axes>"
      ]
     },
     "metadata": {
      "needs_background": "light"
     },
     "output_type": "display_data"
    }
   ],
   "source": [
    "# corelation matrix\n",
    "corr = data.corr()\n",
    "print(corr)\n",
    "# heatmap\n",
    "sns.heatmap(corr, xticklabels=corr.columns, yticklabels=corr.columns)\n",
    "plt.show()"
   ]
  },
  {
   "cell_type": "code",
   "execution_count": 98,
   "metadata": {},
   "outputs": [],
   "source": [
    "data = data.drop(['count'], axis=1)\n",
    "data = data.drop(['neighbors'], axis=1)"
   ]
  },
  {
   "cell_type": "code",
   "execution_count": 99,
   "metadata": {},
   "outputs": [
    {
     "name": "stdout",
     "output_type": "stream",
     "text": [
      "<class 'pandas.core.frame.DataFrame'>\n",
      "RangeIndex: 1048575 entries, 0 to 1048574\n",
      "Data columns (total 5 columns):\n",
      " #   Column         Non-Null Count    Dtype  \n",
      "---  ------         --------------    -----  \n",
      " 0   length         1048575 non-null  int32  \n",
      " 1   weight         1048575 non-null  float64\n",
      " 2   looped         1048575 non-null  int32  \n",
      " 3   income         1048575 non-null  float64\n",
      " 4   label_encoded  1048575 non-null  uint8  \n",
      "dtypes: float64(2), int32(2), uint8(1)\n",
      "memory usage: 25.0 MB\n"
     ]
    }
   ],
   "source": [
    "data.info()"
   ]
  },
  {
   "cell_type": "markdown",
   "metadata": {},
   "source": [
    "# Train and test"
   ]
  },
  {
   "cell_type": "code",
   "execution_count": 100,
   "metadata": {},
   "outputs": [],
   "source": [
    "X=data.drop(\"label_encoded\", axis=1)\n",
    "y=data[\"label_encoded\"]"
   ]
  },
  {
   "cell_type": "code",
   "execution_count": 101,
   "metadata": {},
   "outputs": [
    {
     "data": {
      "text/plain": [
       "<function sklearn.model_selection._split.train_test_split(*arrays, test_size=None, train_size=None, random_state=None, shuffle=True, stratify=None)>"
      ]
     },
     "execution_count": 101,
     "metadata": {},
     "output_type": "execute_result"
    }
   ],
   "source": [
    "from sklearn.model_selection import train_test_split\n",
    "train_test_split"
   ]
  },
  {
   "cell_type": "code",
   "execution_count": 102,
   "metadata": {},
   "outputs": [],
   "source": [
    "X_train, X_test, y_train, y_test = train_test_split(X, y, test_size=0.4, random_state=1)"
   ]
  },
  {
   "cell_type": "code",
   "execution_count": 103,
   "metadata": {},
   "outputs": [],
   "source": [
    "from sklearn.linear_model import LogisticRegression"
   ]
  },
  {
   "cell_type": "code",
   "execution_count": 104,
   "metadata": {},
   "outputs": [],
   "source": [
    "logmodel=LogisticRegression()"
   ]
  },
  {
   "cell_type": "code",
   "execution_count": 105,
   "metadata": {},
   "outputs": [
    {
     "data": {
      "text/plain": [
       "LogisticRegression()"
      ]
     },
     "execution_count": 105,
     "metadata": {},
     "output_type": "execute_result"
    }
   ],
   "source": [
    "logmodel.fit(X_train, y_train)"
   ]
  },
  {
   "cell_type": "code",
   "execution_count": 106,
   "metadata": {},
   "outputs": [
    {
     "name": "stdout",
     "output_type": "stream",
     "text": [
      "0.9607300383854278\n"
     ]
    }
   ],
   "source": [
    "y_pred = logmodel.predict(X_test)\n",
    "# get the accuracy score\n",
    "print(logmodel.score(X_test, y_test))"
   ]
  }
 ],
 "metadata": {
  "interpreter": {
   "hash": "c0a9af94d441f18ebfddce32d8ca6dd10a5e2bb42f89dafb46c123503f5243cd"
  },
  "kernelspec": {
   "display_name": "Python 3.9.1 64-bit",
   "language": "python",
   "name": "python3"
  },
  "language_info": {
   "codemirror_mode": {
    "name": "ipython",
    "version": 3
   },
   "file_extension": ".py",
   "mimetype": "text/x-python",
   "name": "python",
   "nbconvert_exporter": "python",
   "pygments_lexer": "ipython3",
   "version": "3.9.1"
  },
  "orig_nbformat": 4
 },
 "nbformat": 4,
 "nbformat_minor": 2
}
